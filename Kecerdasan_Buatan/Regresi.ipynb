{
  "metadata": {
    "kernelspec": {
      "name": "python",
      "display_name": "Python (Pyodide)",
      "language": "python"
    },
    "language_info": {
      "codemirror_mode": {
        "name": "python",
        "version": 3
      },
      "file_extension": ".py",
      "mimetype": "text/x-python",
      "name": "python",
      "nbconvert_exporter": "python",
      "pygments_lexer": "ipython3",
      "version": "3.8"
    }
  },
  "nbformat_minor": 4,
  "nbformat": 4,
  "cells": [
    {
      "cell_type": "code",
      "source": "#Regresi Linear\n# y = a + bx",
      "metadata": {
        "trusted": true
      },
      "outputs": [],
      "execution_count": null
    },
    {
      "cell_type": "code",
      "source": "import pandas as pd\nimport matplotlib.pyplot as plt ",
      "metadata": {
        "trusted": true
      },
      "outputs": [],
      "execution_count": 1
    },
    {
      "cell_type": "code",
      "source": "data = pd.read_csv('regresi.csv')",
      "metadata": {
        "trusted": true
      },
      "outputs": [],
      "execution_count": 2
    },
    {
      "cell_type": "code",
      "source": "#jumlah seluruh dataset\nlen(data)",
      "metadata": {
        "trusted": true
      },
      "outputs": [
        {
          "execution_count": 3,
          "output_type": "execute_result",
          "data": {
            "text/plain": "10"
          },
          "metadata": {}
        }
      ],
      "execution_count": 3
    },
    {
      "cell_type": "code",
      "source": "#mengecek apakah data sudah terbaca atau belum\ndata.head()",
      "metadata": {
        "trusted": true
      },
      "outputs": [
        {
          "execution_count": 4,
          "output_type": "execute_result",
          "data": {
            "text/plain": "   Sensor  Termometer\n0      12       10.22\n1      14       12.25\n2      17       16.60\n3      23       22.54\n4      31       30.12",
            "text/html": "<div>\n<style scoped>\n    .dataframe tbody tr th:only-of-type {\n        vertical-align: middle;\n    }\n\n    .dataframe tbody tr th {\n        vertical-align: top;\n    }\n\n    .dataframe thead th {\n        text-align: right;\n    }\n</style>\n<table border=\"1\" class=\"dataframe\">\n  <thead>\n    <tr style=\"text-align: right;\">\n      <th></th>\n      <th>Sensor</th>\n      <th>Termometer</th>\n    </tr>\n  </thead>\n  <tbody>\n    <tr>\n      <th>0</th>\n      <td>12</td>\n      <td>10.22</td>\n    </tr>\n    <tr>\n      <th>1</th>\n      <td>14</td>\n      <td>12.25</td>\n    </tr>\n    <tr>\n      <th>2</th>\n      <td>17</td>\n      <td>16.60</td>\n    </tr>\n    <tr>\n      <th>3</th>\n      <td>23</td>\n      <td>22.54</td>\n    </tr>\n    <tr>\n      <th>4</th>\n      <td>31</td>\n      <td>30.12</td>\n    </tr>\n  </tbody>\n</table>\n</div>"
          },
          "metadata": {}
        }
      ],
      "execution_count": 4
    },
    {
      "cell_type": "code",
      "source": "#melihat deskripsi singkat dataset\ndata.info()",
      "metadata": {
        "trusted": true
      },
      "outputs": [
        {
          "name": "stdout",
          "text": "<class 'pandas.core.frame.DataFrame'>\nRangeIndex: 10 entries, 0 to 9\nData columns (total 2 columns):\n #   Column      Non-Null Count  Dtype  \n---  ------      --------------  -----  \n 0   Sensor      10 non-null     int64  \n 1   Termometer  10 non-null     float64\ndtypes: float64(1), int64(1)\nmemory usage: 232.0 bytes\n",
          "output_type": "stream"
        }
      ],
      "execution_count": 5
    },
    {
      "cell_type": "code",
      "source": "x = data['Sensor'] # x adalah variabel sensor\nx",
      "metadata": {
        "trusted": true
      },
      "outputs": [
        {
          "execution_count": 6,
          "output_type": "execute_result",
          "data": {
            "text/plain": "0    12\n1    14\n2    17\n3    23\n4    31\n5    32\n6    35\n7    39\n8    41\n9    43\nName: Sensor, dtype: int64"
          },
          "metadata": {}
        }
      ],
      "execution_count": 6
    },
    {
      "cell_type": "code",
      "source": "y = data['Termometer'] # y adalah variabel termometer\ny",
      "metadata": {
        "trusted": true
      },
      "outputs": [
        {
          "execution_count": 7,
          "output_type": "execute_result",
          "data": {
            "text/plain": "0    10.22\n1    12.25\n2    16.60\n3    22.54\n4    30.12\n5    33.80\n6    36.50\n7    38.70\n8    40.45\n9    43.90\nName: Termometer, dtype: float64"
          },
          "metadata": {}
        }
      ],
      "execution_count": 7
    },
    {
      "cell_type": "code",
      "source": "#pakai scatter karena berbentuk garis\nplt.scatter(data['Sensor'], data['Termometer'])\nplt.title(\"Sensor VS Termometer\")\nplt.xlabel('Sensor')\nplt.ylabel('Termometer')\nplt.show()",
      "metadata": {
        "trusted": true
      },
      "outputs": [
        {
          "output_type": "display_data",
          "data": {
            "text/plain": "<Figure size 640x480 with 1 Axes>",
            "image/png": "[encoded data removed]"
          },
          "metadata": {}
        }
      ],
      "execution_count": 8
    },
    {
      "cell_type": "code",
      "source": "#panggil fungsi yg ada di library sklearn\nfrom sklearn.linear_model import LinearRegression",
      "metadata": {
        "trusted": true
      },
      "outputs": [],
      "execution_count": 9
    },
    {
      "cell_type": "code",
      "source": "#karena kurva berbentuk linear maka dibuat kolom [['nama_kolom']]\nX = data[['Sensor']]\nX",
      "metadata": {
        "trusted": true
      },
      "outputs": [
        {
          "execution_count": 10,
          "output_type": "execute_result",
          "data": {
            "text/plain": "   Sensor\n0      12\n1      14\n2      17\n3      23\n4      31\n5      32\n6      35\n7      39\n8      41\n9      43",
            "text/html": "<div>\n<style scoped>\n    .dataframe tbody tr th:only-of-type {\n        vertical-align: middle;\n    }\n\n    .dataframe tbody tr th {\n        vertical-align: top;\n    }\n\n    .dataframe thead th {\n        text-align: right;\n    }\n</style>\n<table border=\"1\" class=\"dataframe\">\n  <thead>\n    <tr style=\"text-align: right;\">\n      <th></th>\n      <th>Sensor</th>\n    </tr>\n  </thead>\n  <tbody>\n    <tr>\n      <th>0</th>\n      <td>12</td>\n    </tr>\n    <tr>\n      <th>1</th>\n      <td>14</td>\n    </tr>\n    <tr>\n      <th>2</th>\n      <td>17</td>\n    </tr>\n    <tr>\n      <th>3</th>\n      <td>23</td>\n    </tr>\n    <tr>\n      <th>4</th>\n      <td>31</td>\n    </tr>\n    <tr>\n      <th>5</th>\n      <td>32</td>\n    </tr>\n    <tr>\n      <th>6</th>\n      <td>35</td>\n    </tr>\n    <tr>\n      <th>7</th>\n      <td>39</td>\n    </tr>\n    <tr>\n      <th>8</th>\n      <td>41</td>\n    </tr>\n    <tr>\n      <th>9</th>\n      <td>43</td>\n    </tr>\n  </tbody>\n</table>\n</div>"
          },
          "metadata": {}
        }
      ],
      "execution_count": 10
    },
    {
      "cell_type": "code",
      "source": "#kalkulasi X(sensor) dengan y(termometer)\nmodel = LinearRegression().fit(X,y)\na = model.intercept_  #menyimpan nilai a\nb = model.coef_       #menyimpan koefisien\nr2 = model.score(X,y)  #Menghitung Error\nprint(\"Nilai a = \",a)\nprint(\"Nilai b = \",b)\nprint(\"Nilai r2 = \",r2)",
      "metadata": {
        "trusted": true
      },
      "outputs": [
        {
          "name": "stdout",
          "text": "Nilai a =  -2.1132806023178965\nNilai b =  [1.06694357]\nNilai r2 =  0.9937940765013646\n",
          "output_type": "stream"
        }
      ],
      "execution_count": 11
    },
    {
      "cell_type": "code",
      "source": "#uji sistem\n#jika menggunakan sintaks \"nilai = int(input(\"Masukkan Nilai Sensor\"))\" tidak bisa\nuser_input = input(\"Masukkan Nilai Sensor = \")\nnilai_input= await user_input #supaya dapat dikonversi\nnilai = int(nilai_input)\nprediksi = -2.113 + (1.067*nilai) #menggunakan rumus y = a + bx",
      "metadata": {
        "trusted": true
      },
      "outputs": [
        {
          "output_type": "stream",
          "name": "stdin",
          "text": "Masukkan Nilai Sensor =  50\n"
        }
      ],
      "execution_count": 1
    },
    {
      "cell_type": "code",
      "source": "print(\"Termometer = \",prediksi)",
      "metadata": {
        "trusted": true
      },
      "outputs": [
        {
          "name": "stdout",
          "text": "Termometer =  51.236999999999995\n",
          "output_type": "stream"
        }
      ],
      "execution_count": 2
    },
    {
      "cell_type": "code",
      "source": "",
      "metadata": {
        "trusted": true
      },
      "outputs": [],
      "execution_count": null
    }
  ]
}